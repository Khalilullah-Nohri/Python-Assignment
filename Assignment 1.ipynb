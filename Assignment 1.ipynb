{
 "cells": [
  {
   "cell_type": "code",
   "execution_count": 7,
   "metadata": {},
   "outputs": [
    {
     "name": "stdout",
     "output_type": "stream",
     "text": [
      "Twinkle, twinkle, little star ,\n",
      "\tHow I wonder what you are!\n",
      "\t\tUp above the world so high,\n",
      "\t\tLike a diamond in the sky.\n",
      "Twinkle, twinkle, little star,\n",
      "\tHow I wonder what you are \n"
     ]
    }
   ],
   "source": [
    "#Coding of Que: \n",
    "\n",
    "print(\"Twinkle, twinkle, little star ,\\n\\tHow I wonder what you are!\\n\\t\\tUp above the world so high,\\n\\t\\tLike a diamond in the sky.\\nTwinkle, twinkle, little star,\\n\\tHow I wonder what you are \")\n"
   ]
  },
  {
   "cell_type": "code",
   "execution_count": 9,
   "metadata": {},
   "outputs": [
    {
     "name": "stdout",
     "output_type": "stream",
     "text": [
      "Python version\n",
      "3.7.4 (default, Aug  9 2019, 18:34:13) [MSC v.1915 64 bit (AMD64)]\n"
     ]
    }
   ],
   "source": [
    "#Coding of Que: 2\n",
    "\n",
    "import sys\n",
    "print(\"Python version--> \")\n",
    "print (sys.version)"
   ]
  },
  {
   "cell_type": "code",
   "execution_count": 18,
   "metadata": {},
   "outputs": [
    {
     "name": "stdout",
     "output_type": "stream",
     "text": [
      "Current date and time --> \n",
      "19:23:43 05-Nov-2019\n"
     ]
    }
   ],
   "source": [
    "#Coding of Que: 3\n",
    "\n",
    "import datetime\n",
    "\n",
    "current_date_time = datetime.datetime.now()\n",
    "print (\"Current date and time --> \")\n",
    "print (current_date_time.strftime(\"%H:%M:%S %d-%h-%Y\"))"
   ]
  },
  {
   "cell_type": "code",
   "execution_count": 36,
   "metadata": {},
   "outputs": [
    {
     "name": "stdout",
     "output_type": "stream",
     "text": [
      "Enter the radius of a cirlce : 79\n",
      "Hence the area_of_circle is :  19640.427\n"
     ]
    }
   ],
   "source": [
    "#Coding of Que: 4\n",
    "\n",
    "PI=3.147\n",
    "radius=input(\"Enter the radius of a cirlce : \")\n",
    "area_of_circle=int(radius)*int(radius)*PI\n",
    "print(\"Hence the area_of_circle is : \",area_of_circle)"
   ]
  },
  {
   "cell_type": "code",
   "execution_count": 40,
   "metadata": {},
   "outputs": [
    {
     "name": "stdout",
     "output_type": "stream",
     "text": [
      "Enter ur First name : Khalilullah\n",
      "Enter ur Last name : Nohri\n",
      "Ur lastname & first name is ==>  Nohri   Khalilullah\n"
     ]
    }
   ],
   "source": [
    "#Coding of Que: 5\n",
    "\n",
    "First_name=input(\"Enter ur First name : \")\n",
    "Last_name=input(\"Enter ur Last name : \")\n",
    "print(\"Ur lastname & first name is ==> \",Last_name,\" \",First_name)"
   ]
  },
  {
   "cell_type": "code",
   "execution_count": 45,
   "metadata": {},
   "outputs": [
    {
     "name": "stdout",
     "output_type": "stream",
     "text": [
      "Enter first Number 59\n",
      "Enter second Number 79\n",
      "Addition of two input numbers is =  138\n"
     ]
    }
   ],
   "source": [
    "#Coding of Que: 6\n",
    "\n",
    "first_number=input(\"Enter first Number \")\n",
    "second_number=input(\"Enter second Number \")\n",
    "print(\"Addition of two input numbers is = \",int(second_number)+int(first_number))"
   ]
  },
  {
   "cell_type": "code",
   "execution_count": null,
   "metadata": {},
   "outputs": [],
   "source": []
  }
 ],
 "metadata": {
  "kernelspec": {
   "display_name": "Python 3",
   "language": "python",
   "name": "python3"
  },
  "language_info": {
   "codemirror_mode": {
    "name": "ipython",
    "version": 3
   },
   "file_extension": ".py",
   "mimetype": "text/x-python",
   "name": "python",
   "nbconvert_exporter": "python",
   "pygments_lexer": "ipython3",
   "version": "3.7.4"
  }
 },
 "nbformat": 4,
 "nbformat_minor": 2
}
