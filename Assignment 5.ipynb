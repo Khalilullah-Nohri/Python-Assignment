{
 "cells": [
  {
   "cell_type": "code",
   "execution_count": 82,
   "metadata": {},
   "outputs": [
    {
     "name": "stdout",
     "output_type": "stream",
     "text": [
      "Enter non-negative Number: 6\n",
      "The Factorial of  6  is  720\n"
     ]
    }
   ],
   "source": [
    "#Coding of Que: 1\n",
    "\n",
    "def factorial(num):\n",
    "    loop=num\n",
    "    temp=1\n",
    "    while num>1:\n",
    "        temp=temp*num\n",
    "        num-=1\n",
    "    print(\"The Factorial of \",loop ,\" is \",temp)\n",
    "\n",
    "num=int(input(\"Enter non-negative Number: \"))\n",
    "factorial(num)"
   ]
  },
  {
   "cell_type": "code",
   "execution_count": 80,
   "metadata": {},
   "outputs": [
    {
     "name": "stdout",
     "output_type": "stream",
     "text": [
      "Enter a String: TharParKar\n",
      "The Number of upper case in string is :  3\n",
      "The Number of lower case in string is :  7\n"
     ]
    }
   ],
   "source": [
    "#Coding of Que: 2\n",
    "\n",
    "def upper_lower(string):\n",
    "    uppercase=0\n",
    "    lowercase=0\n",
    "    for loop in string:\n",
    "        a=97\n",
    "        while a<=122:\n",
    "            b=chr(a)\n",
    "            if(loop==b):\n",
    "                lowercase+=1\n",
    "            a+=1\n",
    "    uppercase=len(string)-lowercase\n",
    "    print(\"The Number of upper case in string is : \",uppercase)\n",
    "    print(\"The Number of lower case in string is : \",lowercase)\n",
    "    \n",
    "string=input(\"Enter a String: \")\n",
    "upper_lower(string)"
   ]
  },
  {
   "cell_type": "code",
   "execution_count": 84,
   "metadata": {},
   "outputs": [
    {
     "name": "stdout",
     "output_type": "stream",
     "text": [
      "Even Numbers Are : \n",
      "2\n",
      "44\n",
      "88\n"
     ]
    }
   ],
   "source": [
    "#Coding of Que: 3\n",
    "\n",
    "def check_even():\n",
    "    list_of_even_numbers={1,2,59,333,44,88,51}\n",
    "    print(\"Even Numbers Are : \")\n",
    "    for check in list_of_even_numbers:\n",
    "        if(check%2==0):\n",
    "            print(check)\n",
    "\n",
    "check_even()"
   ]
  },
  {
   "cell_type": "code",
   "execution_count": 85,
   "metadata": {},
   "outputs": [
    {
     "name": "stdout",
     "output_type": "stream",
     "text": [
      "Enter String : radar\n",
      "Given string is palindrome\n"
     ]
    }
   ],
   "source": [
    "#Coding of Que: 4\n",
    "\n",
    "def check_palindrome(string):\n",
    "    j=len(string)\n",
    "    i=0\n",
    "    temp=0\n",
    "    j-=1\n",
    "    while j-1>=0:\n",
    "        if(string[i]!=string[j]):\n",
    "            temp+=1\n",
    "        j-=1\n",
    "        i+=1\n",
    "    if(temp==0):\n",
    "        print(\"Given string is palindrome\")\n",
    "    else:\n",
    "        print(\"Given string is not palindrome\")\n",
    "string=input(\"Enter String : \")\n",
    "check_palindrome(string)\n"
   ]
  },
  {
   "cell_type": "code",
   "execution_count": 83,
   "metadata": {},
   "outputs": [
    {
     "name": "stdout",
     "output_type": "stream",
     "text": [
      "Enter Number: 59\n",
      "Given Num: Is Prime \n"
     ]
    }
   ],
   "source": [
    "#Coding of Que: 5\n",
    "\n",
    "def check_prime(num):\n",
    "    loop =2\n",
    "    temp=0\n",
    "    while loop <num:\n",
    "        if (num%loop==0):\n",
    "            temp+=1\n",
    "        loop+=1\n",
    "    if(temp==0):\n",
    "        print(\"Given Num: Is Prime \")\n",
    "    else:\n",
    "        print(\"Is Not a prime Number\")\n",
    "\n",
    "num=int(input(\"Enter Number: \"))\n",
    "check_prime(num)"
   ]
  },
  {
   "cell_type": "code",
   "execution_count": 34,
   "metadata": {},
   "outputs": [
    {
     "name": "stdout",
     "output_type": "stream",
     "text": [
      "The list of user's shopping: \n",
      "pencil\n",
      "rubber\n",
      "Shoes\n",
      "Shopner\n"
     ]
    }
   ],
   "source": [
    "#Coding of Que: 6\n",
    "\n",
    "def shopping(*arguments):\n",
    "    print(\"The list of user's shopping: \")\n",
    "    for loop in arguments:\n",
    "        print(loop)\n",
    "\n",
    "shopping (\"pencil\",\"rubber\",\"Shoes\",\"Shopner\",\"Books\") # just enter any number of things/object names  "
   ]
  },
  {
   "cell_type": "code",
   "execution_count": null,
   "metadata": {},
   "outputs": [],
   "source": []
  }
 ],
 "metadata": {
  "kernelspec": {
   "display_name": "Python 3",
   "language": "python",
   "name": "python3"
  },
  "language_info": {
   "codemirror_mode": {
    "name": "ipython",
    "version": 3
   },
   "file_extension": ".py",
   "mimetype": "text/x-python",
   "name": "python",
   "nbconvert_exporter": "python",
   "pygments_lexer": "ipython3",
   "version": "3.7.4"
  }
 },
 "nbformat": 4,
 "nbformat_minor": 2
}
