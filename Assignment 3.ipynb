{
 "cells": [
  {
   "cell_type": "code",
   "execution_count": 1,
   "metadata": {},
   "outputs": [
    {
     "name": "stdout",
     "output_type": "stream",
     "text": [
      "Enter 1st value: 2\n",
      "Enter 2nd value: 3\n",
      "Enter Operator from +,-,*,/,**:  **\n",
      "Result of Power is =  8\n"
     ]
    }
   ],
   "source": [
    "# 1st Que: of Assignment No: 3\n",
    "\n",
    "value1 =int(input(\"Enter 1st value: \"))\n",
    "value2 =int(input(\"Enter 2nd value: \"))\n",
    "operator =input(\"Enter Operator from +,-,*,/,**:  \")\n",
    "\n",
    "if (operator=='+'):\n",
    "    print(\"Result of Addition is = \",value1+value2)\n",
    "\n",
    "elif (operator=='-'):\n",
    "    print(\"Result of Subtraction is = \",value1-value2)\n",
    "elif (operator=='*'):\n",
    "    print(\"Result of Multiplication is = \",value1*value2)  \n",
    "elif (operator=='/'):\n",
    "    print(\"Result of Division is = \",value1/value2)\n",
    "elif (operator=='**'):\n",
    "    print(\"Result of Power is = \",value1**value2)\n",
    "else :\n",
    "    print(\"Invalid Operator!!!!\")"
   ]
  },
  {
   "cell_type": "code",
   "execution_count": 2,
   "metadata": {},
   "outputs": [
    {
     "name": "stdout",
     "output_type": "stream",
     "text": [
      "1\n",
      "2\n",
      "59\n",
      "555\n"
     ]
    }
   ],
   "source": [
    "# 2nd Que: of Assignment No: 3\n",
    "\n",
    "list_of_array =[1,2,\"Arbab\",59,555]\n",
    "\n",
    "temp = type(1)         # to assign integer type to the temp variable\n",
    "for i in list_of_array :\n",
    "    if type(i) == temp:\n",
    "        print(i)"
   ]
  },
  {
   "cell_type": "code",
   "execution_count": 3,
   "metadata": {},
   "outputs": [
    {
     "name": "stdout",
     "output_type": "stream",
     "text": [
      "Adding a new key  {'Name ': 'Khalil', 'Caste ': 'Nohri', 'RollNo': '17CS'}\n"
     ]
    }
   ],
   "source": [
    "\n",
    "# 3rd Que: of Assignment No: 3\n",
    "\n",
    "dictionary={\"Name \":\"Khalil\",\"Caste \":\"Nohri\"}\n",
    "dictionary[\"RollNo\"] =\"17CS\"  # adding a new key that is RollNo\n",
    "print(\"Adding a new key \",dictionary)\n"
   ]
  },
  {
   "cell_type": "code",
   "execution_count": 4,
   "metadata": {},
   "outputs": [
    {
     "name": "stdout",
     "output_type": "stream",
     "text": [
      "Sum of Numeric Values =  10\n"
     ]
    }
   ],
   "source": [
    "\n",
    "#  4th Que: of Assignment No: 3\n",
    "\n",
    "dictionary={\"a\":1,\"b\":2,\"c\":3,\"d\":4}\n",
    "print(\"Sum of Numeric Values = \",sum(dictionary.values()))"
   ]
  },
  {
   "cell_type": "code",
   "execution_count": 5,
   "metadata": {},
   "outputs": [
    {
     "name": "stdout",
     "output_type": "stream",
     "text": [
      "[3, 23, 59]\n"
     ]
    }
   ],
   "source": [
    "\n",
    "list_array =[11,2,3,3,55,23,23,59,59]\n",
    "\n",
    "item = 0\n",
    "count = 0\n",
    "new_array = []\n",
    "for i in list_array:\n",
    "    count = list_array.count(i)\n",
    "    if (count > 1 and item != i):\n",
    "        item = i\n",
    "        new_array.append(i)\n",
    "print(new_array)"
   ]
  },
  {
   "cell_type": "code",
   "execution_count": 6,
   "metadata": {},
   "outputs": [
    {
     "name": "stdout",
     "output_type": "stream",
     "text": [
      "Enter key d\n",
      "Already Exist\n"
     ]
    }
   ],
   "source": [
    "#  6th Que: of Assignment No: 3\n",
    "\n",
    "dictionary={\"a\":1,\"b\":2,\"c\":3,\"d\":4,\"e\":4}\n",
    "take_key =input(\"Enter key \");\n",
    "#value=int(input(\"Enter value \"))\n",
    "for a in dictionary.keys():\n",
    "    if (take_key==a):\n",
    "        print(\"Already Exist\")"
   ]
  },
  {
   "cell_type": "code",
   "execution_count": null,
   "metadata": {},
   "outputs": [],
   "source": []
  }
 ],
 "metadata": {
  "kernelspec": {
   "display_name": "Python 3",
   "language": "python",
   "name": "python3"
  },
  "language_info": {
   "codemirror_mode": {
    "name": "ipython",
    "version": 3
   },
   "file_extension": ".py",
   "mimetype": "text/x-python",
   "name": "python",
   "nbconvert_exporter": "python",
   "pygments_lexer": "ipython3",
   "version": "3.7.4"
  }
 },
 "nbformat": 4,
 "nbformat_minor": 2
}
