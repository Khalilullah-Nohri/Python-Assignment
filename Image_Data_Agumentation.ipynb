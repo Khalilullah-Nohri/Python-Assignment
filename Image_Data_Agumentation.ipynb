{
  "nbformat": 4,
  "nbformat_minor": 0,
  "metadata": {
    "colab": {
      "name": "Image Data Agumentation.ipynb",
      "provenance": [],
      "collapsed_sections": [],
      "authorship_tag": "ABX9TyP6u1QuItZxt6AcPrNYGSoQ",
      "include_colab_link": true
    },
    "kernelspec": {
      "name": "python3",
      "display_name": "Python 3"
    },
    "language_info": {
      "name": "python"
    }
  },
  "cells": [
    {
      "cell_type": "markdown",
      "metadata": {
        "id": "view-in-github",
        "colab_type": "text"
      },
      "source": [
        "<a href=\"https://colab.research.google.com/github/Khalilullah-Nohri/Python-Programming-Assignments/blob/master/Image_Data_Agumentation.ipynb\" target=\"_parent\"><img src=\"https://colab.research.google.com/assets/colab-badge.svg\" alt=\"Open In Colab\"/></a>"
      ]
    },
    {
      "cell_type": "code",
      "execution_count": null,
      "metadata": {
        "colab": {
          "base_uri": "https://localhost:8080/",
          "height": 380
        },
        "id": "lpUJ35o7UR4s",
        "outputId": "e9c72b13-7b38-4a12-cd27-acdf8dacb298"
      },
      "outputs": [
        {
          "output_type": "error",
          "ename": "MessageError",
          "evalue": "ignored",
          "traceback": [
            "\u001b[0;31m---------------------------------------------------------------------------\u001b[0m",
            "\u001b[0;31mMessageError\u001b[0m                              Traceback (most recent call last)",
            "\u001b[0;32m<ipython-input-3-c5eee33bea5b>\u001b[0m in \u001b[0;36m<module>\u001b[0;34m()\u001b[0m\n\u001b[1;32m      1\u001b[0m \u001b[0;32mfrom\u001b[0m \u001b[0mgoogle\u001b[0m\u001b[0;34m.\u001b[0m\u001b[0mcolab\u001b[0m \u001b[0;32mimport\u001b[0m \u001b[0mdrive\u001b[0m     \u001b[0;31m#first run these consecutive two lines for mounting gdrive\u001b[0m\u001b[0;34m\u001b[0m\u001b[0;34m\u001b[0m\u001b[0m\n\u001b[0;32m----> 2\u001b[0;31m \u001b[0mdrive\u001b[0m\u001b[0;34m.\u001b[0m\u001b[0mmount\u001b[0m\u001b[0;34m(\u001b[0m\u001b[0;34m'/content/gdrive'\u001b[0m\u001b[0;34m)\u001b[0m\u001b[0;34m\u001b[0m\u001b[0;34m\u001b[0m\u001b[0m\n\u001b[0m\u001b[1;32m      3\u001b[0m \u001b[0;34m\u001b[0m\u001b[0m\n\u001b[1;32m      4\u001b[0m \u001b[0;32mimport\u001b[0m \u001b[0mcv2\u001b[0m\u001b[0;34m\u001b[0m\u001b[0;34m\u001b[0m\u001b[0m\n\u001b[1;32m      5\u001b[0m \u001b[0;32mimport\u001b[0m \u001b[0mmatplotlib\u001b[0m\u001b[0;34m.\u001b[0m\u001b[0mpyplot\u001b[0m \u001b[0;32mas\u001b[0m \u001b[0mplt\u001b[0m\u001b[0;34m\u001b[0m\u001b[0;34m\u001b[0m\u001b[0m\n",
            "\u001b[0;32m/usr/local/lib/python3.7/dist-packages/google/colab/drive.py\u001b[0m in \u001b[0;36mmount\u001b[0;34m(mountpoint, force_remount, timeout_ms, use_metadata_server)\u001b[0m\n\u001b[1;32m    113\u001b[0m       \u001b[0mforce_remount\u001b[0m\u001b[0;34m=\u001b[0m\u001b[0mforce_remount\u001b[0m\u001b[0;34m,\u001b[0m\u001b[0;34m\u001b[0m\u001b[0;34m\u001b[0m\u001b[0m\n\u001b[1;32m    114\u001b[0m       \u001b[0mtimeout_ms\u001b[0m\u001b[0;34m=\u001b[0m\u001b[0mtimeout_ms\u001b[0m\u001b[0;34m,\u001b[0m\u001b[0;34m\u001b[0m\u001b[0;34m\u001b[0m\u001b[0m\n\u001b[0;32m--> 115\u001b[0;31m       ephemeral=True)\n\u001b[0m\u001b[1;32m    116\u001b[0m \u001b[0;34m\u001b[0m\u001b[0m\n\u001b[1;32m    117\u001b[0m \u001b[0;34m\u001b[0m\u001b[0m\n",
            "\u001b[0;32m/usr/local/lib/python3.7/dist-packages/google/colab/drive.py\u001b[0m in \u001b[0;36m_mount\u001b[0;34m(mountpoint, force_remount, timeout_ms, use_metadata_server, ephemeral)\u001b[0m\n\u001b[1;32m    133\u001b[0m   \u001b[0;32mif\u001b[0m \u001b[0mephemeral\u001b[0m\u001b[0;34m:\u001b[0m\u001b[0;34m\u001b[0m\u001b[0;34m\u001b[0m\u001b[0m\n\u001b[1;32m    134\u001b[0m     _message.blocking_request(\n\u001b[0;32m--> 135\u001b[0;31m         'request_auth', request={'authType': 'dfs_ephemeral'}, timeout_sec=None)\n\u001b[0m\u001b[1;32m    136\u001b[0m \u001b[0;34m\u001b[0m\u001b[0m\n\u001b[1;32m    137\u001b[0m   \u001b[0mmountpoint\u001b[0m \u001b[0;34m=\u001b[0m \u001b[0m_os\u001b[0m\u001b[0;34m.\u001b[0m\u001b[0mpath\u001b[0m\u001b[0;34m.\u001b[0m\u001b[0mexpanduser\u001b[0m\u001b[0;34m(\u001b[0m\u001b[0mmountpoint\u001b[0m\u001b[0;34m)\u001b[0m\u001b[0;34m\u001b[0m\u001b[0;34m\u001b[0m\u001b[0m\n",
            "\u001b[0;32m/usr/local/lib/python3.7/dist-packages/google/colab/_message.py\u001b[0m in \u001b[0;36mblocking_request\u001b[0;34m(request_type, request, timeout_sec, parent)\u001b[0m\n\u001b[1;32m    173\u001b[0m   request_id = send_request(\n\u001b[1;32m    174\u001b[0m       request_type, request, parent=parent, expect_reply=True)\n\u001b[0;32m--> 175\u001b[0;31m   \u001b[0;32mreturn\u001b[0m \u001b[0mread_reply_from_input\u001b[0m\u001b[0;34m(\u001b[0m\u001b[0mrequest_id\u001b[0m\u001b[0;34m,\u001b[0m \u001b[0mtimeout_sec\u001b[0m\u001b[0;34m)\u001b[0m\u001b[0;34m\u001b[0m\u001b[0;34m\u001b[0m\u001b[0m\n\u001b[0m",
            "\u001b[0;32m/usr/local/lib/python3.7/dist-packages/google/colab/_message.py\u001b[0m in \u001b[0;36mread_reply_from_input\u001b[0;34m(message_id, timeout_sec)\u001b[0m\n\u001b[1;32m    104\u001b[0m         reply.get('colab_msg_id') == message_id):\n\u001b[1;32m    105\u001b[0m       \u001b[0;32mif\u001b[0m \u001b[0;34m'error'\u001b[0m \u001b[0;32min\u001b[0m \u001b[0mreply\u001b[0m\u001b[0;34m:\u001b[0m\u001b[0;34m\u001b[0m\u001b[0;34m\u001b[0m\u001b[0m\n\u001b[0;32m--> 106\u001b[0;31m         \u001b[0;32mraise\u001b[0m \u001b[0mMessageError\u001b[0m\u001b[0;34m(\u001b[0m\u001b[0mreply\u001b[0m\u001b[0;34m[\u001b[0m\u001b[0;34m'error'\u001b[0m\u001b[0;34m]\u001b[0m\u001b[0;34m)\u001b[0m\u001b[0;34m\u001b[0m\u001b[0;34m\u001b[0m\u001b[0m\n\u001b[0m\u001b[1;32m    107\u001b[0m       \u001b[0;32mreturn\u001b[0m \u001b[0mreply\u001b[0m\u001b[0;34m.\u001b[0m\u001b[0mget\u001b[0m\u001b[0;34m(\u001b[0m\u001b[0;34m'data'\u001b[0m\u001b[0;34m,\u001b[0m \u001b[0;32mNone\u001b[0m\u001b[0;34m)\u001b[0m\u001b[0;34m\u001b[0m\u001b[0;34m\u001b[0m\u001b[0m\n\u001b[1;32m    108\u001b[0m \u001b[0;34m\u001b[0m\u001b[0m\n",
            "\u001b[0;31mMessageError\u001b[0m: Error: credential propagation was unsuccessful"
          ]
        }
      ],
      "source": [
        "# from google.colab import drive     #first run these consecutive two lines for mounting gdrive\n",
        "# drive.mount('/content/gdrive')    \n",
        "\n",
        "import cv2 \n",
        "import matplotlib.pyplot as plt\n",
        "from google.colab.patches import cv2_imshow   # for imshow method in colab\n",
        "import os                         #  for list of directory\n",
        "from numpy import expand_dims        #below consecutive three libraries for image DATA arguments in KERAS \n",
        "from keras.preprocessing.image import img_to_array\n",
        "from keras.preprocessing.image import ImageDataGenerator\n",
        "# from keras.preprocessing.image import load_img\n",
        "\n",
        "PATH= '/content/gdrive/MyDrive/Operation/beforeOperation/'   # folder contains all the images prior to operations\n",
        "# !ls {PATH}                                                  # current directory\n",
        "\n",
        "fileList=os.listdir(PATH)   # return the list of file inside current PATH\n",
        "print(\"File are: \",fileList)\n",
        "\n",
        "# print(\"Original Image\")\n",
        "#   img=cv2.imread(path)\n",
        "#   cv2_imshow(img)\n",
        "# plt.imshow(PATH) \n",
        "# plt.show"
      ]
    },
    {
      "cell_type": "markdown",
      "source": [
        "height_shift_range =0.2"
      ],
      "metadata": {
        "id": "s2Xt5gqb1HLT"
      }
    },
    {
      "cell_type": "code",
      "source": [
        "\n",
        "# load the image\n",
        "# img = load_img('/content/gdrive/MyDrive/Documents /personal_me.jpg')\n",
        "# print(\"Before Operation: \")\n",
        "\n",
        "for fileName in fileList:\n",
        "\t\tPATH= '/content/gdrive/MyDrive/Operation/beforeOperation/'\n",
        "\t\tPATH+=fileName\n",
        "\t\t#load image\n",
        "\t\timg=cv2.imread(PATH)\n",
        "\t\t# convert to numpy array\n",
        "\t\tdata = img_to_array(img)\n",
        "\t\t# expand dimension to one sample\n",
        "\t\tsamples = expand_dims(data, 0)\n",
        "\t\t# create image data augmentation generator\n",
        "\t\tdatagen = ImageDataGenerator(height_shift_range=0.2)\n",
        "\t\t# prepare iterator\n",
        "\t\tit = datagen.flow(samples, batch_size=1)\n",
        "\n",
        "\n",
        "\t# generate samples and plot\n",
        "\t# for i in range(9):\n",
        "\t\t# # define subplot\n",
        "\t\t# pyplot.subplot(330 + 1 + i)\n",
        "\t\t# generate batch of images\n",
        "\n",
        "\t\tbatch = it.next()\n",
        "\t\t\t# convert to unsigned integers for viewing\n",
        "\t\timage = batch[0].astype('uint8')\n",
        "\n",
        "\t# pyplot.imshow(image)\n",
        "\t# pyplot.show()\n",
        "\n",
        "\t\tprint(\"\\n\\nSuccessfully perfomed height_shift_range Operation on : \",fileName)\t\t\n",
        "\t\tpathFile='/content/gdrive/MyDrive/Operation/afterOperation/height_shift_range/'\n",
        "\t\tpathFile+=fileName\n",
        "\t\tcv2.imwrite(pathFile,image)        # write opertaion in gdrive "
      ],
      "metadata": {
        "colab": {
          "base_uri": "https://localhost:8080/",
          "height": 235
        },
        "id": "P-C-oHVIq4JM",
        "outputId": "4e7fc669-50f7-4908-ea42-efcbd020be60"
      },
      "execution_count": null,
      "outputs": [
        {
          "output_type": "error",
          "ename": "NameError",
          "evalue": "ignored",
          "traceback": [
            "\u001b[0;31m---------------------------------------------------------------------------\u001b[0m",
            "\u001b[0;31mNameError\u001b[0m                                 Traceback (most recent call last)",
            "\u001b[0;32m<ipython-input-1-881a6b252790>\u001b[0m in \u001b[0;36m<module>\u001b[0;34m()\u001b[0m\n\u001b[1;32m      4\u001b[0m \u001b[0;31m# print(\"Before Operation: \")\u001b[0m\u001b[0;34m\u001b[0m\u001b[0;34m\u001b[0m\u001b[0;34m\u001b[0m\u001b[0m\n\u001b[1;32m      5\u001b[0m \u001b[0;34m\u001b[0m\u001b[0m\n\u001b[0;32m----> 6\u001b[0;31m \u001b[0;32mfor\u001b[0m \u001b[0mfileName\u001b[0m \u001b[0;32min\u001b[0m \u001b[0mfileList\u001b[0m\u001b[0;34m:\u001b[0m\u001b[0;34m\u001b[0m\u001b[0;34m\u001b[0m\u001b[0m\n\u001b[0m\u001b[1;32m      7\u001b[0m                 \u001b[0mPATH\u001b[0m\u001b[0;34m=\u001b[0m \u001b[0;34m'/content/gdrive/MyDrive/Operation/beforeOperation/'\u001b[0m\u001b[0;34m\u001b[0m\u001b[0;34m\u001b[0m\u001b[0m\n\u001b[1;32m      8\u001b[0m                 \u001b[0mPATH\u001b[0m\u001b[0;34m+=\u001b[0m\u001b[0mfileName\u001b[0m\u001b[0;34m\u001b[0m\u001b[0;34m\u001b[0m\u001b[0m\n",
            "\u001b[0;31mNameError\u001b[0m: name 'fileList' is not defined"
          ]
        }
      ]
    },
    {
      "cell_type": "markdown",
      "source": [
        "widht_shift_range"
      ],
      "metadata": {
        "id": "Pk7jqSfP1M3e"
      }
    },
    {
      "cell_type": "code",
      "source": [
        "for fileName in fileList:\n",
        "\t\tPATH= '/content/gdrive/MyDrive/Operation/beforeOperation/'\n",
        "\t\tPATH+=fileName\n",
        "\t\timg=cv2.imread(PATH)\n",
        "\n",
        "\n",
        "\t\t# convert to numpy array\n",
        "\t\tdata = img_to_array(img)\n",
        "\t\t# expand dimension to one sample\n",
        "\t\tsamples = expand_dims(data, 0)\n",
        "\t\t# create image data augmentation generator\n",
        "\t\tdatagen = ImageDataGenerator(width_shift_range=[0.2,0.2])\n",
        "\t\t# prepare iterator\n",
        "\t\tit = datagen.flow(samples, batch_size=1)\n",
        "\n",
        "\t\t\t\n",
        "\t\t\t# generate batch of images\n",
        "\t\tbatch = it.next()\n",
        "\t\t\t# convert to unsigned integers for viewing\n",
        "\t\timage = batch[0].astype('uint8')\n",
        "\t\t\t# plot raw pixel data\n",
        "\n",
        "\t\tprint(\"\\n\\nSuccessfully perfomed weight_shift_range Operation on : \",fileName)\t\t\n",
        "\t\tpathFile='/content/gdrive/MyDrive/Operation/afterOperation/weight_shift_range/'\n",
        "\t\tpathFile+=fileName\n",
        "\t\tcv2.imwrite(pathFile,image) \t\t# write opertaion in gdrive"
      ],
      "metadata": {
        "colab": {
          "base_uri": "https://localhost:8080/"
        },
        "id": "kH5tlYBfsd0A",
        "outputId": "b2852301-fde4-4420-883a-aca8bf15e980"
      },
      "execution_count": null,
      "outputs": [
        {
          "output_type": "stream",
          "name": "stdout",
          "text": [
            "\n",
            "\n",
            "Successfully perfomed weight_shift_range Operation on :  fish.jpg\n",
            "\n",
            "\n",
            "Successfully perfomed weight_shift_range Operation on :  amazon.png\n",
            "\n",
            "\n",
            "Successfully perfomed weight_shift_range Operation on :  Cricketing_Shots.jpg\n"
          ]
        }
      ]
    },
    {
      "cell_type": "markdown",
      "source": [
        "zoom_range"
      ],
      "metadata": {
        "id": "GqFnOaRN1VQA"
      }
    },
    {
      "cell_type": "code",
      "source": [
        "\n",
        "for fileName in fileList:\n",
        "\t\tPATH= '/content/gdrive/MyDrive/Operation/beforeOperation/'\n",
        "\t\tPATH+=fileName\n",
        "\t\t\n",
        "\t\t# load the image\n",
        "\t\timg=cv2.imread(PATH)\n",
        "\n",
        "\t\t# convert to numpy array\n",
        "\t\tdata = img_to_array(img)\n",
        "\t\t# expand dimension to one sample\n",
        "\t\tsamples = expand_dims(data, 0)\n",
        "\t\t# create image data augmentation generator\n",
        "\t\tdatagen = ImageDataGenerator(zoom_range=[0.5,1.0])\n",
        "\t\t# prepare iterator\n",
        "\t\tit = datagen.flow(samples, batch_size=1)\n",
        "\t\t# generate samples and plot\n",
        "\n",
        "\t\tbatch = it.next()\n",
        "\t\t\t# convert to unsigned integers for viewing\n",
        "\t\timage = batch[0].astype('uint8')\n",
        "\n",
        "\t\tprint(\"\\n\\nSuccessfully perfomed zoom_range Operation on : \",fileName)\t\t\n",
        "\t\tpathFile='/content/gdrive/MyDrive/Operation/afterOperation/zoom_range/'\n",
        "\t\tpathFile+=fileName\n",
        "\t\tcv2.imwrite(pathFile,image) \t\t# write opertaion in gdrive"
      ],
      "metadata": {
        "colab": {
          "base_uri": "https://localhost:8080/"
        },
        "id": "bLOohwOR1Zt5",
        "outputId": "62e6606b-7dcd-41d9-8bf6-ca7a79292a37"
      },
      "execution_count": null,
      "outputs": [
        {
          "output_type": "stream",
          "name": "stdout",
          "text": [
            "\n",
            "\n",
            "Successfully perfomed zoom_range Operation on :  fish.jpg\n",
            "\n",
            "\n",
            "Successfully perfomed zoom_range Operation on :  amazon.png\n",
            "\n",
            "\n",
            "Successfully perfomed zoom_range Operation on :  Cricketing_Shots.jpg\n"
          ]
        }
      ]
    },
    {
      "cell_type": "markdown",
      "source": [
        "rotation_range=40"
      ],
      "metadata": {
        "id": "qHY1eCWjDu6w"
      }
    },
    {
      "cell_type": "code",
      "source": [
        "for fileName in fileList:\n",
        "\t\tPATH= '/content/gdrive/MyDrive/Operation/beforeOperation/'\n",
        "\t\tPATH+=fileName\n",
        "\t\t\n",
        "\t\t# load the image\n",
        "\t\timg=cv2.imread(PATH)\n",
        "\n",
        "\t\t# convert to numpy array\n",
        "\t\tdata = img_to_array(img)\n",
        "\t\t# expand dimension to one sample\n",
        "\t\tsamples = expand_dims(data, 0)\n",
        "\t\t# create image data augmentation generator\n",
        "\t\tdatagen = ImageDataGenerator(rotation_range=90)\n",
        "\t\t# prepare iterator\n",
        "\t\tit = datagen.flow(samples, batch_size=1)\n",
        "\t\t# generate samples and plot\n",
        "\t\tbatch = it.next()\n",
        "\t\t\t# convert to unsigned integers for viewing\n",
        "\t\timage = batch[0].astype('uint8')\n",
        "\n",
        "\t\tprint(\"\\n\\nSuccessfully perfomed rotation_range Operation on : \",fileName)\t\t\n",
        "\t\tpathFile='/content/gdrive/MyDrive/Operation/afterOperation/rotation_range/'\n",
        "\t\tpathFile+=fileName\n",
        "\t\tcv2.imwrite(pathFile,image)\t\t\t\t\t# write opertaion in gdrive\n"
      ],
      "metadata": {
        "colab": {
          "base_uri": "https://localhost:8080/"
        },
        "id": "c22rSTcgDzI3",
        "outputId": "dd48ac1b-61f0-45cd-a530-76bab1d383be"
      },
      "execution_count": null,
      "outputs": [
        {
          "output_type": "stream",
          "name": "stdout",
          "text": [
            "\n",
            "\n",
            "Successfully perfomed rotation_range Operation on :  fish.jpg\n",
            "\n",
            "\n",
            "Successfully perfomed rotation_range Operation on :  amazon.png\n"
          ]
        }
      ]
    },
    {
      "cell_type": "markdown",
      "source": [
        "vertical_flip"
      ],
      "metadata": {
        "id": "WfNcpPKGEh7X"
      }
    },
    {
      "cell_type": "code",
      "source": [
        "\n",
        "for fileName in fileList:\n",
        "\t\tPATH= '/content/gdrive/MyDrive/Operation/beforeOperation/'\n",
        "\t\tPATH+=fileName\n",
        "\t\t\n",
        "\t\t# load the image\n",
        "\t\timg=cv2.imread(PATH)\n",
        "\n",
        "\t\t# convert to numpy array\n",
        "\t\tdata = img_to_array(img)\n",
        "\t\t# expand dimension to one sample\n",
        "\t\tsamples = expand_dims(data, 0)\n",
        "\t\t# create image data augmentation generator\n",
        "\t\tdatagen = ImageDataGenerator(vertical_flip=True)\n",
        "\t\t# prepare iterator\n",
        "\t\tit = datagen.flow(samples, batch_size=1)\n",
        "\n",
        "\t\tbatch = it.next()\n",
        "\t\t\t# convert to unsigned integers for viewing\n",
        "\t\timage = batch[0].astype('uint8')\n",
        "\t\t\n",
        "\t\tprint(\"\\n\\nSuccessfully perfomed vertical_flip Operation on : \",fileName)\t\t\n",
        "\t\tpathFile='/content/gdrive/MyDrive/Operation/afterOperation/vertical_flip/'\n",
        "\t\tpathFile+=fileName\n",
        "\t\tcv2.imwrite(pathFile,image) \t\t\t\t# write opertaion in gdrive"
      ],
      "metadata": {
        "colab": {
          "base_uri": "https://localhost:8080/"
        },
        "id": "t239WWeXEl7O",
        "outputId": "ddb14bbd-ee13-4398-fc69-b66c67703526"
      },
      "execution_count": null,
      "outputs": [
        {
          "output_type": "stream",
          "name": "stdout",
          "text": [
            "\n",
            "\n",
            "Successfully perfomed vertical_flip Operation on :  fish.jpg\n",
            "\n",
            "\n",
            "Successfully perfomed vertical_flip Operation on :  amazon.png\n"
          ]
        }
      ]
    },
    {
      "cell_type": "markdown",
      "source": [
        "horizontal_flip"
      ],
      "metadata": {
        "id": "06IVt-DNEdzM"
      }
    },
    {
      "cell_type": "code",
      "source": [
        "for fileName in fileList:\n",
        "\t\tPATH= '/content/gdrive/MyDrive/Operation/beforeOperation/'\n",
        "\t\tPATH+=fileName\n",
        "\t\t\n",
        "\t\t# load the image\n",
        "\t\timg=cv2.imread(PATH)\n",
        "\n",
        "\n",
        "\t\t# convert to numpy array\n",
        "\t\tdata = img_to_array(img)\n",
        "\t\t# expand dimension to one sample\n",
        "\t\tsamples = expand_dims(data, 0)\n",
        "\t\t# create image data augmentation generator\n",
        "\t\tdatagen = ImageDataGenerator(horizontal_flip=True)\n",
        "\t\t# prepare iterator\n",
        "\t\tit = datagen.flow(samples, batch_size=1)\n",
        "\n",
        "\t\tbatch = it.next()\n",
        "\t\t\t# convert to unsigned integers for viewing\n",
        "\t\timage = batch[0].astype('uint8')\n",
        "\t\t\t# plot raw pixel data\n",
        "\n",
        "\t\tprint(\"\\n\\nSuccessfully perfomed horizontal_flip Operation on : \",fileName)\t\t\n",
        "\t\tpathFile='/content/gdrive/MyDrive/Operation/afterOperation/horizontal_flip/'\n",
        "\t\tpathFile+=fileName\n",
        "\t\tcv2.imwrite(pathFile,image)\t\t\t\t# write opertaion in gdrive\n"
      ],
      "metadata": {
        "outputId": "ecd0eb05-17f5-4c1a-8769-e707330528a8",
        "colab": {
          "base_uri": "https://localhost:8080/"
        },
        "id": "mcoqJZ4aF6ie"
      },
      "execution_count": null,
      "outputs": [
        {
          "output_type": "stream",
          "name": "stdout",
          "text": [
            "\n",
            "\n",
            "Successfully perfomed horizontal_flip Operation on :  fish.jpg\n",
            "\n",
            "\n",
            "Successfully perfomed horizontal_flip Operation on :  amazon.png\n"
          ]
        }
      ]
    },
    {
      "cell_type": "markdown",
      "source": [
        "https://machinelearningmastery.com/how-to-configure-image-data-augmentation-when-training-deep-learning-neural-networks/"
      ],
      "metadata": {
        "id": "bZwT5mdcvkkg"
      }
    }
  ]
}