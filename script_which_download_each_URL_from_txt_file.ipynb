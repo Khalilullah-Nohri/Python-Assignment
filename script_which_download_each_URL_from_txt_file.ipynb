{
  "nbformat": 4,
  "nbformat_minor": 0,
  "metadata": {
    "colab": {
      "name": "script_which_download_each_URL_from_txt_file.ipynb",
      "provenance": [],
      "collapsed_sections": [],
      "authorship_tag": "ABX9TyPhZUpmPtohFiFUDa0+qhAQ",
      "include_colab_link": true
    },
    "kernelspec": {
      "display_name": "Python 3",
      "name": "python3"
    },
    "language_info": {
      "name": "python"
    }
  },
  "cells": [
    {
      "cell_type": "markdown",
      "metadata": {
        "id": "view-in-github",
        "colab_type": "text"
      },
      "source": [
        "<a href=\"https://colab.research.google.com/github/Khalilullah-Nohri/Python-Programming-Assignments/blob/master/script_which_download_each_URL_from_txt_file.ipynb\" target=\"_parent\"><img src=\"https://colab.research.google.com/assets/colab-badge.svg\" alt=\"Open In Colab\"/></a>"
      ]
    },
    {
      "cell_type": "code",
      "metadata": {
        "id": "qPDcLYRj-tmR"
      },
      "source": [
        "import urllib.request\n",
        "local_filename, headers = urllib.request.urlretrieve('https://jaysbrickblog.com/wp-content/uploads/2019/01/Brickvention-2019-Melbourne-CBD-by-Samuel-Mollema-1024x572.jpg')\n",
        "html = open(local_filename)\n",
        "html.close()"
      ],
      "execution_count": null,
      "outputs": []
    },
    {
      "cell_type": "code",
      "metadata": {
        "colab": {
          "base_uri": "https://localhost:8080/"
        },
        "id": "Vjr3wVfQMT4p",
        "outputId": "e54955c7-e344-4a48-b648-cceaad5fef66"
      },
      "source": [
        "'''\n",
        "This python script opens a file named urls.txt in the  current folder and\n",
        "downloads each url sequentually. Downloaded files are saved into the current folder.\n",
        "Requirements\n",
        "* In urls.txt URLs must be one per line and no line can be blank\n",
        "* The URL must not use GET parameters (e.g. http://server/retrieve?file=myfile)\n",
        "* urls.txt must be stored in the same folder as this file\n",
        "* You must have read and write permission to this folder\n",
        "'''\n",
        "import os.path\n",
        "import urllib.request\n",
        "links = open('urls.txt', 'r')\n",
        "newpath = input(\"Where to store the file in a new location: \")\n",
        "for link in links:\n",
        "  link = link.strip()\n",
        "  filename = link.rsplit('/', 1)[-1]\n",
        "  # Does this file exist in this folder? If not, download it\n",
        "  if not (fos.path.isfile(newpath+filename)):\n",
        "    newfilename = input(\"What is the new name you want to assign to the file downloaded: ?\")\n",
        "    print('Now Downloading: ' + link+\" And saving as......\"+newpath+newfilename)\n",
        "  try:\n",
        "    urllib.request.urlretrieve(link, newpath+newfilename)\n",
        "    print(\"File size was\", os.path.getsize(newpath+newfilename))\n",
        "  except Exception as inst:\n",
        "    print(inst)\n",
        "    print(' Encountered unknown error. Continuing.')\n",
        "  # File exists; don't download\n",
        "  else:\n",
        "    print(\"This file exists already.\")\n",
        "# End of program\n",
        "print(\"Finished downloading.\")\n"
      ],
      "execution_count": null,
      "outputs": [
        {
          "output_type": "stream",
          "name": "stdout",
          "text": [
            "Where to store the file in a new location: desktop2\n",
            "What is the new name you want to assign to the file downloaded: ?file\n",
            "Now Downloading: https://jaysbrickblog.com/wp-content/uploads/2019/01/Brickvention-2019-A-83-Exploration-Base-1024x539.jpg And saving as......desktop2file\n",
            "File size was 136398\n",
            "This file exists already.\n",
            "What is the new name you want to assign to the file downloaded: ?file2\n",
            "Now Downloading: https://jaysbrickblog.com/wp-content/uploads/2019/01/Brickvention-2019-Melbourne-CBD-by-Samuel-Mollema-1024x572.jpg And saving as......desktop2file2\n",
            "File size was 187865\n",
            "This file exists already.\n",
            "What is the new name you want to assign to the file downloaded: ?file3\n",
            "Now Downloading: https://jaysbrickblog.com/wp-content/uploads/2019/01/Brickvention-2019-Mario-by-Matthew-Scicluna-908x1024.jpg And saving as......desktop2file3\n",
            "File size was 211680\n",
            "This file exists already.\n",
            "What is the new name you want to assign to the file downloaded: ?file4\n",
            "Now Downloading: https://jaysbrickblog.com/wp-content/uploads/2019/01/Brickvention-2019-Crystal-Fox-by-Runa-Lindblom--768x1058.jpg And saving as......desktop2file4\n",
            "File size was 173606\n",
            "This file exists already.\n",
            "Finished downloading.\n"
          ]
        }
      ]
    }
  ]
}