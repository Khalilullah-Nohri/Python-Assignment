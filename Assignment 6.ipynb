{
 "cells": [
  {
   "cell_type": "code",
   "execution_count": 11,
   "metadata": {},
   "outputs": [
    {
     "name": "stdout",
     "output_type": "stream",
     "text": [
      "<__main__.Car object at 0x000001F917917E48>\n",
      "<__main__.Car object at 0x000001F917917148>\n",
      "<__main__.Car object at 0x000001F917910BC8>\n",
      "<__main__.Car object at 0x000001F917899308>\n",
      "<__main__.Car object at 0x000001F917899448>\n",
      "\n",
      " Civic Black 3Ziu7C Honda Ali   \n"
     ]
    }
   ],
   "source": [
    "# Coding of Que; 5 Assignment 6th\n",
    "class Car():\n",
    "    def __init__(self , name,modelno,color,company,ownername):\n",
    "        self.name=name\n",
    "        self.modelno=modelno\n",
    "        self.color=color\n",
    "        self.company=company\n",
    "        self.ownername=ownername\n",
    "    def name_model(model,newname):\n",
    "        self.name=newname\n",
    "        self.modelno=model\n",
    "    def color_company(newcolor,newcomany):\n",
    "        self.color =newcolor\n",
    "        self.company =newcompany\n",
    "    def owner_info(newowner):\n",
    "        self.owner=newowner\n",
    "obj1 =Car('Civic'  ,'3Ziu7C'   ,'Black','Honda','Ali   ')\n",
    "print(obj1)\n",
    "obj2 =Car('Vigo'   ,'Zitu77C'  ,'White','Honda','Aslam ')\n",
    "print(obj2)\n",
    "obj3 =Car('Crusier','23zZiu7C1','red'  ,'Honda','Aleem ')\n",
    "print(obj3)\n",
    "obj4 =Car('XLI'    ,'3fru6Cn'  ,'Black','Honda','Yaqoob')\n",
    "print(obj4)\n",
    "obj5 =Car('Mehran' ,'uubiu44'  ,'Black','Honda','Zulfi ')\n",
    "print(obj5)\n",
    "\n",
    "print('\\n',obj1.name ,obj1.color,obj1.modelno,obj1.company,obj1.ownername)"
   ]
  },
  {
   "cell_type": "code",
   "execution_count": null,
   "metadata": {},
   "outputs": [],
   "source": []
  }
 ],
 "metadata": {
  "kernelspec": {
   "display_name": "Python 3",
   "language": "python",
   "name": "python3"
  },
  "language_info": {
   "codemirror_mode": {
    "name": "ipython",
    "version": 3
   },
   "file_extension": ".py",
   "mimetype": "text/x-python",
   "name": "python",
   "nbconvert_exporter": "python",
   "pygments_lexer": "ipython3",
   "version": "3.7.4"
  }
 },
 "nbformat": 4,
 "nbformat_minor": 2
}
