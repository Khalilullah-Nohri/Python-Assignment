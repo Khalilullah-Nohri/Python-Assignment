{
 "cells": [
  {
   "cell_type": "code",
   "execution_count": 18,
   "metadata": {},
   "outputs": [
    {
     "name": "stdout",
     "output_type": "stream",
     "text": [
      "\t Marksheet \n",
      "Enter 1st Subject marks:  59\n",
      "Enter 2nd Subject marks:  89\n",
      "Enter 3rd Subject marks:  43\n",
      "Enter 4th Subject marks:  90\n",
      "Enter 5th Subject marks:  99\n",
      "\n",
      "Total marks in 5 Subjects are:  380\n",
      "Percentage is:  76.0\n",
      "your grade is: A\n"
     ]
    }
   ],
   "source": [
    "#  1st Ques: of Assignment No :2\n",
    "\n",
    "print(\"\\t Marksheet \")\n",
    "subj_1 = int(input(\"Enter 1st Subject marks:  \"))\n",
    "subj_2 = int(input(\"Enter 2nd Subject marks:  \"))\n",
    "subj_3 = int(input(\"Enter 3rd Subject marks:  \"))\n",
    "subj_4 = int(input(\"Enter 4th Subject marks:  \"))\n",
    "subj_5 = int(input(\"Enter 5th Subject marks:  \"))\n",
    "\n",
    "total_marks=subj_1+subj_2+subj_3+subj_4+subj_5\n",
    "per=(total_marks/500) *100\n",
    "print(\"\\nTotal marks in 5 Subjects are: \",total_marks)\n",
    "print(\"Percentage is: \",per)\n",
    "\n",
    "if per>=80 and per<=100 :\n",
    "    print (\"your grade is: A+\")\n",
    "elif per>=70 and per<80 :\n",
    "    print (\"your grade is: A\")\n",
    "elif per>=60 and per<70:\n",
    "    print (\"your grade is: B+\")\n",
    "elif per>=50 and per<60:\n",
    "    print (\"your grade is: B\")\n",
    "else: print(\"Fail Beta !!!!\")"
   ]
  },
  {
   "cell_type": "code",
   "execution_count": 17,
   "metadata": {},
   "outputs": [
    {
     "name": "stdout",
     "output_type": "stream",
     "text": [
      "Enter Number : 59\n",
      "Entered Number is Odd\n"
     ]
    }
   ],
   "source": [
    "#  2nd Ques: of Assignment No :2\n",
    "\n",
    "number=int(input(\"Enter Number : \"))\n",
    "\n",
    "if number%2==0 :\n",
    "    print(\"Entered Number is Even\")\n",
    "else :\n",
    "        print(\"Entered Number is Odd\")"
   ]
  },
  {
   "cell_type": "code",
   "execution_count": 19,
   "metadata": {},
   "outputs": [
    {
     "name": "stdout",
     "output_type": "stream",
     "text": [
      "The Length Of Given Array is  3\n"
     ]
    }
   ],
   "source": [
    "#  3rd Ques: of Assignment No :2\n",
    "\n",
    "array=[\"Khalil-Nohri\",59,\"Mithi_Thar\"]\n",
    "print(\"The Length Of Given Array is \",len(array))"
   ]
  },
  {
   "cell_type": "code",
   "execution_count": 22,
   "metadata": {},
   "outputs": [
    {
     "name": "stdout",
     "output_type": "stream",
     "text": [
      "The Sum Of all numeric values of above given is :  79\n"
     ]
    }
   ],
   "source": [
    "#  4th Ques: of Assignment No :2\n",
    "\n",
    "array=[1,2,3,7,3,4,59]\n",
    "print(\"The Sum Of all numeric values of above given is : \",sum(array))\n"
   ]
  },
  {
   "cell_type": "code",
   "execution_count": 23,
   "metadata": {},
   "outputs": [
    {
     "name": "stdout",
     "output_type": "stream",
     "text": [
      "Hence the Larghest Number in Array is  59\n"
     ]
    }
   ],
   "source": [
    "#  5th Ques: of Assignment No :2\n",
    "\n",
    "array=[1,2,3,4,59,2]\n",
    "print(\"Hence the Larghest Number in Array is \",max(array))"
   ]
  },
  {
   "cell_type": "code",
   "execution_count": 24,
   "metadata": {},
   "outputs": [
    {
     "name": "stdout",
     "output_type": "stream",
     "text": [
      "Below are the numbers less than 5\n",
      "1\n",
      "1\n",
      "2\n",
      "3\n"
     ]
    }
   ],
   "source": [
    "#  6th Ques: of Assignment No :2\n",
    "\n",
    "#This Program can be solved by using Array , but still you cann't taught that's why I use this Logic to simply built code for this given Question.\n",
    "\n",
    "a=[1,1,2,3,6,8,13,21,34,55,89]\n",
    "print(\"Below are the numbers less than 5\")\n",
    "if a[0]<5 :\n",
    "    print(a[0])\n",
    "if a[1]<5 :\n",
    "    print(a[1])\n",
    "if a[2]<5 :\n",
    "    print(a[2])\n",
    "if a[3]<5 :\n",
    "    print(a[3])\n",
    "if a[4]<5 :\n",
    "    print(a[4])\n",
    "if a[5]<5 :\n",
    "    print(a[5])\n",
    "if a[6]<5 :\n",
    "    print(a[6])\n",
    "if a[7]<5 :\n",
    "    print(a[7])\n",
    "if a[8]<5 :\n",
    "    print(a[8])\n",
    "if a[9]<5 :\n",
    "    print(a[9])\n",
    "if a[10]<5 :\n",
    "    print(a[10])\n"
   ]
  },
  {
   "cell_type": "code",
   "execution_count": null,
   "metadata": {},
   "outputs": [],
   "source": []
  }
 ],
 "metadata": {
  "kernelspec": {
   "display_name": "Python 3",
   "language": "python",
   "name": "python3"
  },
  "language_info": {
   "codemirror_mode": {
    "name": "ipython",
    "version": 3
   },
   "file_extension": ".py",
   "mimetype": "text/x-python",
   "name": "python",
   "nbconvert_exporter": "python",
   "pygments_lexer": "ipython3",
   "version": "3.7.4"
  }
 },
 "nbformat": 4,
 "nbformat_minor": 2
}
